{
 "cells": [
  {
   "cell_type": "markdown",
   "metadata": {},
   "source": [
    "**Description**     \n",
    "The notebook contains the code to access the Google Analytics API and download the data.    \n",
    "The downloaded data is checked, processed and saved as a json file.     "
   ]
  },
  {
   "cell_type": "markdown",
   "metadata": {},
   "source": [
    "**Required libraries**"
   ]
  },
  {
   "cell_type": "code",
   "execution_count": 63,
   "metadata": {},
   "outputs": [],
   "source": [
    "# Save files\n",
    "import json\n",
    "import os\n",
    "\n",
    "# Google Analytics Modules and Libraries\n",
    "from google.oauth2 import service_account \n",
    "from google.analytics.data_v1beta import BetaAnalyticsDataClient \n",
    "from google.analytics.data_v1beta.types import ( \n",
    "    DateRange,\n",
    "    Dimension,\n",
    "    Metric,\n",
    "    MetricType,\n",
    "    RunReportRequest,\n",
    "    OrderBy,\n",
    ")"
   ]
  },
  {
   "cell_type": "markdown",
   "metadata": {},
   "source": [
    "**Access data to API and our websites IDs**"
   ]
  },
  {
   "cell_type": "code",
   "execution_count": 64,
   "metadata": {},
   "outputs": [],
   "source": [
    "# Path to the login file (JSON service account key)\n",
    "key_file = '../1_access_data/data-project-438907-2e1111c8bd46.json'\n",
    "\n",
    "# Property ID (22 websites)\n",
    "with open('../1_access_data/websites_id.json', 'r', encoding='utf-8') as json_file:\n",
    "    websites_id = json.load(json_file)\n",
    "\n",
    "# Authentication by service account\n",
    "scopes = ['https://www.googleapis.com/auth/analytics.readonly']\n",
    "credentials = service_account.Credentials.from_service_account_file(key_file, scopes=scopes)\n",
    "\n",
    "# Service API initialization\n",
    "client = BetaAnalyticsDataClient(credentials=credentials)"
   ]
  },
  {
   "cell_type": "markdown",
   "metadata": {},
   "source": [
    "**Input request parameters**  "
   ]
  },
  {
   "cell_type": "code",
   "execution_count": 65,
   "metadata": {},
   "outputs": [],
   "source": [
    "# Specify the date range\n",
    "start_date = '2023-11-01'\n",
    "end_date = '2024-11-30'\n",
    "date_range = [\n",
    "    DateRange(\n",
    "    start_date=start_date,\n",
    "    end_date=end_date\n",
    ")]\n",
    "\n",
    "# Specify the dimensions\n",
    "dimensions = [\n",
    "    Dimension(name='year'),\n",
    "    Dimension(name='month'),\n",
    "]\n",
    "\n",
    "# Specify the metrics\n",
    "metrics = [\n",
    "    Metric(name='activeUsers'), # The number of distinct users who visited website during a specified time period\n",
    "    Metric(name='newUsers'), # The number of users who interacted with website for the first time during a specified time period\n",
    "    Metric(name='sessions'), # The total number of individual sessions initiated by users during a specified time period\n",
    "    Metric(name='sessionsPerUser'), # The average number of sessions per user within the specified time period\n",
    "    Metric(name='screenPageViews'), # The number of page views during a specified time period (repeated views of a single page are counted)\n",
    "    Metric(name='engagedSessions'), # The number of sessions that lasted longer than 10 seconds, or had a key event, or had 2 or more screen views\n",
    "    Metric(name='averageSessionDuration'), # The average time users spend in a session, measured in seconds\n",
    "]\n",
    "\n",
    "# Specify the order in which the data will be returned.\n",
    "order_by = [\n",
    "    OrderBy(dimension={'dimension_name': 'year'}, desc=False),\n",
    "    OrderBy(dimension={'dimension_name': 'month'}, desc=False),\n",
    "]"
   ]
  },
  {
   "cell_type": "markdown",
   "metadata": {},
   "source": [
    "**Data extraction**"
   ]
  },
  {
   "cell_type": "markdown",
   "metadata": {},
   "source": [
    "*1) Functions definition*"
   ]
  },
  {
   "cell_type": "code",
   "execution_count": 66,
   "metadata": {},
   "outputs": [],
   "source": [
    "def get_report(client, id):\n",
    "    \"\"\"Create the request with the requests parameters.\n",
    "    Send the request to the API\"\"\"\n",
    "    request = RunReportRequest(\n",
    "        property=f'properties/{id}',\n",
    "        date_ranges=date_range,\n",
    "        dimensions=dimensions,\n",
    "        metrics=metrics,\n",
    "        order_bys=order_by,\n",
    "    ) \n",
    "    \n",
    "    response = client.run_report(request)\n",
    "    return response"
   ]
  },
  {
   "cell_type": "code",
   "execution_count": 67,
   "metadata": {},
   "outputs": [],
   "source": [
    "def check_response(response):\n",
    "    \"\"\"Checking the content of API response object\"\"\"\n",
    "    print('The response rowcount: ', response.row_count, '\\n')\n",
    "\n",
    "    print('The response dimension headers:')\n",
    "    for header in response.dimension_headers:\n",
    "        print(' ', header.name)\n",
    "\n",
    "    print('\\nThe API response metric headers:')\n",
    "    for header in response.metric_headers:\n",
    "        print(' ', header.name)\n",
    "\n",
    "    print('\\nSample data rows:')\n",
    "    for row in response.rows[:5]:\n",
    "        dimensions = [dim.value for dim in row.dimension_values]\n",
    "        metrics = [metric.value for metric in row.metric_values]\n",
    "        print(' Dimensions:', dimensions, ' Metrics:', metrics)"
   ]
  },
  {
   "cell_type": "code",
   "execution_count": 68,
   "metadata": {},
   "outputs": [],
   "source": [
    "def process_response(response):\n",
    "    \"\"\"Process the API response to extract the data and return a list of dictionaries.\"\"\"\n",
    "    dim_len = len(response.dimension_headers)\n",
    "    metric_len = len(response.metric_headers)\n",
    "\n",
    "    raw_data = []\n",
    "\n",
    "    # Process each row in the response\n",
    "    for row in response.rows:\n",
    "        row_data = {}\n",
    "        # Extract dimension values\n",
    "        for i in range(dim_len):\n",
    "            dim_name = response.dimension_headers[i].name\n",
    "            dim_value = row.dimension_values[i].value\n",
    "            row_data[dim_name] = dim_value\n",
    "        # Extract metric values\n",
    "        for i in range(metric_len):\n",
    "            metric_name = response.metric_headers[i].name\n",
    "            metric_value = row.metric_values[i].value\n",
    "            row_data[metric_name] = metric_value\n",
    "        \n",
    "        raw_data.append(row_data)\n",
    "\n",
    "    return raw_data"
   ]
  },
  {
   "cell_type": "code",
   "execution_count": 69,
   "metadata": {},
   "outputs": [],
   "source": [
    "def save_raw_data(response, file_path):\n",
    "    \"\"\"Saves the row data to JSON file\"\"\"\n",
    "    with open(file_path, mode='w', encoding='utf-8') as file:\n",
    "        json.dump(response, file, default=str, indent=4)"
   ]
  },
  {
   "cell_type": "code",
   "execution_count": 70,
   "metadata": {},
   "outputs": [],
   "source": [
    "def check_file_saved(file_path):\n",
    "    \"\"\"Check if the file was saved successfully.\"\"\"\n",
    "    if os.path.exists(file_path) and os.path.getsize(file_path) > 0:\n",
    "        print(f'File {file_path} saved successfully.')\n",
    "    else:\n",
    "        print(f'Error saving file: {file_path}')"
   ]
  },
  {
   "cell_type": "markdown",
   "metadata": {},
   "source": [
    "*2) Getting data from all our websites*"
   ]
  },
  {
   "cell_type": "code",
   "execution_count": null,
   "metadata": {},
   "outputs": [],
   "source": [
    "for key, value in websites_id.items():\n",
    "    # Get API response\n",
    "    response = get_report(client, value)\n",
    "\n",
    "    # Check response\n",
    "    print(f'\\n{key}')\n",
    "    check_response(response)\n",
    "\n",
    "    # Response processing\n",
    "    raw_data = process_response(response)\n",
    "\n",
    "    # Save to JSON\n",
    "    save_path = f'../3_data/raw/{key}-{start_date}-{end_date}.json'\n",
    "    os.makedirs(os.path.dirname(save_path), exist_ok=True)\n",
    "    save_raw_data(raw_data, save_path)\n",
    "\n",
    "    # File save check\n",
    "    check_file_saved(save_path)"
   ]
  }
 ],
 "metadata": {
  "kernelspec": {
   "display_name": "base",
   "language": "python",
   "name": "python3"
  },
  "language_info": {
   "codemirror_mode": {
    "name": "ipython",
    "version": 3
   },
   "file_extension": ".py",
   "mimetype": "text/x-python",
   "name": "python",
   "nbconvert_exporter": "python",
   "pygments_lexer": "ipython3",
   "version": "3.12.7"
  }
 },
 "nbformat": 4,
 "nbformat_minor": 2
}
