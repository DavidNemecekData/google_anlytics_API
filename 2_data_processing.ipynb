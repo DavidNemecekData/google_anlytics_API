{
 "cells": [
  {
   "cell_type": "markdown",
   "metadata": {},
   "source": [
    "**Description**     \n",
    "In this notebook, I process the data obtained using the Google Analytics API.       \n",
    "I create DataFrame from individual json files containing data about traffic of individual web pages.        \n",
    "I then combine the individual DFs into a single DF, which I save to a new json file.        "
   ]
  },
  {
   "cell_type": "markdown",
   "metadata": {},
   "source": [
    "**Required libraries**"
   ]
  },
  {
   "cell_type": "code",
   "execution_count": 79,
   "metadata": {},
   "outputs": [],
   "source": [
    "import pandas as pd\n",
    "import json\n",
    "import os\n",
    "import re"
   ]
  },
  {
   "cell_type": "markdown",
   "metadata": {},
   "source": [
    "**Data processing**"
   ]
  },
  {
   "cell_type": "markdown",
   "metadata": {},
   "source": [
    "*1) Functions definition*"
   ]
  },
  {
   "cell_type": "code",
   "execution_count": 80,
   "metadata": {},
   "outputs": [],
   "source": [
    "def make_df(data):\n",
    "    \"\"\"Convert data to DataFrame and preprocess it.\"\"\"\n",
    "    df = pd.DataFrame(data)\n",
    "\n",
    "    # Columns rename\n",
    "    df.rename(columns={\n",
    "    'activeUsers': 'active_users',\n",
    "    'newUsers': 'new_users',\n",
    "    'sessionsPerUser': 'sessions_per_user',\n",
    "    'screenPageViews': 'screen_page_views',\n",
    "    'engagedSessions': 'engaged_sessions',\n",
    "    'averageSessionDuration': 'average_session_duration',\n",
    "    }, inplace=True)\n",
    "    \n",
    "    # Data type setting\n",
    "    df['year'] = df['year'].astype(int)\n",
    "    df['month'] = df['month'].astype(int)\n",
    "    df['active_users'] = df['active_users'].astype(int)\n",
    "    df['new_users'] = df['new_users'].astype(int)\n",
    "    df['sessions'] = df['sessions'].astype(int)\n",
    "    df['sessions_per_user'] = df['sessions_per_user'].astype(float)\n",
    "    df['screen_page_views'] = df['screen_page_views'].astype(int)\n",
    "    df['engaged_sessions'] = df['engaged_sessions'].astype(int)\n",
    "    df['average_session_duration'] = df['average_session_duration'].astype(float)\n",
    "\n",
    "    return df"
   ]
  },
  {
   "cell_type": "code",
   "execution_count": 81,
   "metadata": {},
   "outputs": [],
   "source": [
    "def filename_extraction(filename): \n",
    "    \"\"\"Extract the domain name with the extension (.cz, .sk) from the filename\"\"\"\n",
    "    # Regular expression for extracting domain name\n",
    "    pattern = r'([a-zA-Z0-9\\.\\-]+(?:\\.cz|\\.sk))-\\d{4}-\\d{2}-\\d{2}-\\d{4}-\\d{2}-\\d{2}\\.json'\n",
    "\n",
    "    # Using a regular expression\n",
    "    match = re.search(pattern, filename)\n",
    "\n",
    "    if match:\n",
    "        website = match.group(1)\n",
    "        return website\n",
    "    \n",
    "    else:\n",
    "        print(\"Website not found in filename:\", filename)\n",
    "        return None"
   ]
  },
  {
   "cell_type": "markdown",
   "metadata": {},
   "source": [
    "*2) Start of processing*"
   ]
  },
  {
   "cell_type": "code",
   "execution_count": 82,
   "metadata": {},
   "outputs": [],
   "source": [
    "# Path to the data folder\n",
    "folder_path = '../3_data/raw'\n",
    "\n",
    "# List of files in the folder\n",
    "files = os.listdir(folder_path)"
   ]
  },
  {
   "cell_type": "code",
   "execution_count": 83,
   "metadata": {},
   "outputs": [],
   "source": [
    "# Initialize empty list to store DataFrames\n",
    "df_list = []\n",
    "\n",
    "# Iteration through individual files\n",
    "for filename in files:\n",
    "    file_path = os.path.join(folder_path, filename)\n",
    "    with open(file_path, 'r', encoding='utf-8') as json_file:\n",
    "        data = json.load(json_file)\n",
    "\n",
    "        # Create a DataFrame from the data\n",
    "        df = make_df(data)\n",
    "\n",
    "        # Extract website from filename\n",
    "        website = filename_extraction(filename)\n",
    "\n",
    "        # # Add the extracted domain name to the DataFrame\n",
    "        if website:\n",
    "            df.insert(0, 'website', website)\n",
    "\n",
    "        # Append the DataFrame to the list\n",
    "        df_list.append(df)\n",
    "\n",
    "# Concatenate all DataFrames into a single one\n",
    "final_df = pd.concat(df_list, ignore_index=True)\n",
    "\n",
    "# Saving processed data\n",
    "final_df.to_json(\"../3_data/processed_data/df_analytics.json\", orient=\"records\", indent=4)"
   ]
  }
 ],
 "metadata": {
  "kernelspec": {
   "display_name": "base",
   "language": "python",
   "name": "python3"
  },
  "language_info": {
   "codemirror_mode": {
    "name": "ipython",
    "version": 3
   },
   "file_extension": ".py",
   "mimetype": "text/x-python",
   "name": "python",
   "nbconvert_exporter": "python",
   "pygments_lexer": "ipython3",
   "version": "3.12.7"
  }
 },
 "nbformat": 4,
 "nbformat_minor": 2
}
