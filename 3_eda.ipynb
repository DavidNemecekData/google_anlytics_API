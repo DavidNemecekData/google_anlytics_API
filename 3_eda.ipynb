{
 "cells": [
  {
   "cell_type": "markdown",
   "metadata": {},
   "source": [
    "**Description**     \n",
    "In this notebook, I'm exploring data downloaded via the Google analytics API.       \n",
    "The uploaded data is converted to a DataFrame, which is then modified (data types, columns).        \n",
    "The websites of interest are filtered out from the df.      \n",
    "These are further evaluated (individually and in groups).       "
   ]
  },
  {
   "cell_type": "markdown",
   "metadata": {},
   "source": [
    "**Required libraries**"
   ]
  },
  {
   "cell_type": "code",
   "execution_count": 103,
   "metadata": {},
   "outputs": [],
   "source": [
    "import pandas as pd\n",
    "import matplotlib.pyplot as plt\n",
    "import seaborn as sns\n",
    "import re"
   ]
  },
  {
   "cell_type": "markdown",
   "metadata": {},
   "source": [
    "**Data upload**"
   ]
  },
  {
   "cell_type": "code",
   "execution_count": 104,
   "metadata": {},
   "outputs": [],
   "source": [
    "# Dataset containing data in the period - 2023-11-01 - 2024-11-30 \n",
    "df = pd.read_json(\"../3_data/processed_data/df_analytics.json\")"
   ]
  },
  {
   "cell_type": "code",
   "execution_count": null,
   "metadata": {},
   "outputs": [],
   "source": [
    "df.head(5)"
   ]
  },
  {
   "cell_type": "code",
   "execution_count": null,
   "metadata": {},
   "outputs": [],
   "source": [
    "df.info()"
   ]
  },
  {
   "cell_type": "markdown",
   "metadata": {},
   "source": [
    "**Defining key KPIs**   \n",
    "active_users    \n",
    "new_users   \n",
    "sessions_per_user   \n",
    "average_session_duration    \n",
    "engagement_rate = engaged_sessions / sessions   \n",
    "new_users_ratio = new_users / active_users  "
   ]
  },
  {
   "cell_type": "code",
   "execution_count": 107,
   "metadata": {},
   "outputs": [],
   "source": [
    "# Calculation of KPIs\n",
    "df[\"engagement_rate\"] = df[\"engaged_sessions\"] / df[\"sessions\"]\n",
    "df[\"new_users_ratio\"] = df[\"new_users\"] / df[\"active_users\"]\n"
   ]
  },
  {
   "cell_type": "markdown",
   "metadata": {},
   "source": [
    "**Data processing**"
   ]
  },
  {
   "cell_type": "code",
   "execution_count": 108,
   "metadata": {},
   "outputs": [],
   "source": [
    "# Float64 values rounding\n",
    "columns_to_round = [\n",
    "    \"sessions_per_user\",\n",
    "    \"average_session_duration\",\n",
    "    \"engagement_rate\",\n",
    "    \"new_users_ratio\",\n",
    "]\n",
    "\n",
    "df[columns_to_round] = df[columns_to_round].round(2)\n",
    "\n",
    "# Create a new column year_month\n",
    "df.insert(loc=1, column='year_month', value=pd.to_datetime(df[['year', 'month']].assign(day=1)).dt.strftime('%Y-%m'))"
   ]
  },
  {
   "cell_type": "markdown",
   "metadata": {},
   "source": [
    "**Data filtering**"
   ]
  },
  {
   "cell_type": "code",
   "execution_count": 109,
   "metadata": {},
   "outputs": [],
   "source": [
    "# Websites of interest\n",
    "websites = [\n",
    "    \"zemedelec.cz\",\n",
    "    \"profipress.cz\",\n",
    "    \"mechanizacezemedelstvi.cz\", \n",
    "    \"komunalweb.cz\",\n",
    "    \"moderniobec.cz\",\n",
    "    \"naschov.cz\", \n",
    "    \"odpady-online.cz\",\n",
    "    \"vetweb.cz\",\n",
    "    \"tvzemedelec.cz\",\n",
    "    \"zahradaweb.cz\",\n",
    "]\n",
    "\n",
    "# Data filtering\n",
    "df_websites = df[df[\"website\"].isin(websites)]"
   ]
  },
  {
   "cell_type": "code",
   "execution_count": null,
   "metadata": {},
   "outputs": [],
   "source": [
    "df_websites.info()"
   ]
  },
  {
   "cell_type": "markdown",
   "metadata": {},
   "source": [
    "**Data exploration**        \n",
    "Variables and functions"
   ]
  },
  {
   "cell_type": "code",
   "execution_count": 111,
   "metadata": {},
   "outputs": [],
   "source": [
    "metrics = [\n",
    "    \"active_users\",\n",
    "    \"new_users\",\n",
    "    \"sessions_per_user\",\n",
    "    \"average_session_duration\",\n",
    "    \"engagement_rate\",\n",
    "    \"new_users_ratio\",\n",
    "]"
   ]
  },
  {
   "cell_type": "code",
   "execution_count": 112,
   "metadata": {},
   "outputs": [],
   "source": [
    "sns.set_theme(\n",
    "    style=\"whitegrid\",\n",
    "    palette=\"deep\",\n",
    "    font_scale=1.1,\n",
    "    rc={\"grid.color\": \"#e6e6e6\"},\n",
    ")"
   ]
  },
  {
   "cell_type": "code",
   "execution_count": 113,
   "metadata": {},
   "outputs": [],
   "source": [
    "def get_report(df_website):\n",
    "    \"\"\"Functions for calculating and displaying average and total values.\n",
    "    Display the months with the most number of active users\"\"\"\n",
    "    \n",
    "    print(\"Average per month:\")\n",
    "    for metric in metrics:\n",
    "        print(f\"  {metric}: {df_website[metric].mean().round(2)}\")\n",
    "\n",
    "    print(\"\\nTotal per year:\")\n",
    "    for metric in [\"active_users\", \"new_users\"]:\n",
    "        print(f\"  {metric}: {df_website[metric].sum()}\")\n",
    "\n",
    "    top_rows = df_website.nlargest(3, 'active_users')\n",
    "    return top_rows.head(3)"
   ]
  },
  {
   "cell_type": "code",
   "execution_count": 114,
   "metadata": {},
   "outputs": [],
   "source": [
    "def get_report_charts(df_website):\n",
    "    \"\"\"Functions for creating graphs - FacetGrid for individual metrics, line chart for groups of metrics\"\"\"\n",
    "\n",
    "    # 1) FacetGrid - line chart for each metric separately \n",
    "    df_melted = df_website.melt(id_vars=['year_month'], \n",
    "                                value_vars=metrics,\n",
    "                                var_name='Metric', \n",
    "                                value_name='Value')\n",
    "\n",
    "    grid = sns.FacetGrid(df_melted, col='Metric', col_wrap=2, sharey=False, height=4, aspect=1.5)\n",
    "    grid.map(sns.lineplot, 'year_month', 'Value', linewidth=2)\n",
    "    grid.set_titles(\"{col_name}\") \n",
    "    grid.set_axis_labels(\"Date\", \"Value\")\n",
    "    grid.set(ylim=(0, None))\n",
    "\n",
    "    for ax in grid.axes.flat:\n",
    "        ax.tick_params(axis='x', rotation=45)  \n",
    "\n",
    "    plt.suptitle(\"Trend of individual metrics over the year\")\n",
    "    plt.tight_layout()\n",
    "    plt.show()\n",
    "\n",
    "    # 2) Line chart - Active and new users\n",
    "    plt.figure(figsize=(10, 5))\n",
    "    sns.lineplot(data=df_website, x=\"year_month\", y=\"active_users\", label=\"Active Users\", linewidth=2)\n",
    "    sns.lineplot(data=df_website, x=\"year_month\", y=\"new_users\", label=\"New Users\")\n",
    "    plt.title(\"Active and new users over the year\")\n",
    "    plt.xlabel(\"\") \n",
    "    plt.ylabel(\"Number of users\")\n",
    "    plt.xticks(rotation=45, ha=\"right\")\n",
    "    plt.legend()\n",
    "    plt.tight_layout()\n",
    "    plt.show()\n",
    "\n",
    "    # 3) Line chart - Average session duration\n",
    "    plt.figure(figsize=(10, 5))\n",
    "    sns.lineplot(data=df_website, x=\"year_month\", y=\"average_session_duration\", label=\"Average session duration\", linewidth=2)\n",
    "    plt.title(\"Average session duration over the year\")\n",
    "    plt.ylabel(\"Seconds\")\n",
    "    plt.xticks(rotation=45, ha=\"right\")\n",
    "    plt.xlabel(\"\")\n",
    "    plt.tight_layout()\n",
    "    plt.show()\n",
    "\n",
    "    # Line chart - User engagement metrics\n",
    "    plt.figure(figsize=(10, 5))\n",
    "    sns.lineplot(data=df_website, x=\"year_month\", y=\"sessions_per_user\", label=\"Sessions per user\", linewidth=2)\n",
    "    sns.lineplot(data=df_website, x=\"year_month\", y=\"engagement_rate\", label=\"Engagement rate\", linewidth=2)\n",
    "    sns.lineplot(data=df_website, x=\"year_month\", y=\"new_users_ratio\", label=\"New Users ratio\", linewidth=2)\n",
    "    plt.title(\"User engagement metrics over year\")\n",
    "    plt.xticks(rotation=45, ha=\"right\")  \n",
    "    plt.xlabel(\"\")  \n",
    "    plt.ylabel(\"Ratio\")\n",
    "    plt.legend()\n",
    "    plt.tight_layout()\n",
    "    plt.show()"
   ]
  },
  {
   "cell_type": "markdown",
   "metadata": {},
   "source": [
    "**Website zemedelec.cz**"
   ]
  },
  {
   "cell_type": "code",
   "execution_count": 115,
   "metadata": {},
   "outputs": [],
   "source": [
    "df_zemedelec = df_websites[df_websites[\"website\"] == \"zemedelec.cz\"]"
   ]
  },
  {
   "cell_type": "code",
   "execution_count": null,
   "metadata": {},
   "outputs": [],
   "source": [
    "get_report(df_zemedelec)"
   ]
  },
  {
   "cell_type": "code",
   "execution_count": null,
   "metadata": {},
   "outputs": [],
   "source": [
    "get_report_charts(df_zemedelec)"
   ]
  },
  {
   "cell_type": "markdown",
   "metadata": {},
   "source": [
    "**Website profipress.cz**"
   ]
  },
  {
   "cell_type": "code",
   "execution_count": 118,
   "metadata": {},
   "outputs": [],
   "source": [
    "df_profipress = df_websites[df_websites[\"website\"] == \"profipress.cz\"]"
   ]
  },
  {
   "cell_type": "code",
   "execution_count": null,
   "metadata": {},
   "outputs": [],
   "source": [
    "get_report(df_profipress)"
   ]
  },
  {
   "cell_type": "code",
   "execution_count": null,
   "metadata": {},
   "outputs": [],
   "source": [
    "get_report_charts(df_profipress)"
   ]
  },
  {
   "cell_type": "markdown",
   "metadata": {},
   "source": [
    "**Website mechanizacezemedelstvi.cz**"
   ]
  },
  {
   "cell_type": "code",
   "execution_count": 121,
   "metadata": {},
   "outputs": [],
   "source": [
    "df_mechanizace = df_websites[df_websites[\"website\"] == \"mechanizacezemedelstvi.cz\"]"
   ]
  },
  {
   "cell_type": "code",
   "execution_count": null,
   "metadata": {},
   "outputs": [],
   "source": [
    "get_report(df_mechanizace)"
   ]
  },
  {
   "cell_type": "code",
   "execution_count": null,
   "metadata": {},
   "outputs": [],
   "source": [
    "get_report_charts(df_mechanizace)"
   ]
  },
  {
   "cell_type": "markdown",
   "metadata": {},
   "source": [
    "**Website komunalweb.cz**"
   ]
  },
  {
   "cell_type": "code",
   "execution_count": 124,
   "metadata": {},
   "outputs": [],
   "source": [
    "df_komunalweb = df_websites[df_websites[\"website\"] == \"komunalweb.cz\"]"
   ]
  },
  {
   "cell_type": "code",
   "execution_count": null,
   "metadata": {},
   "outputs": [],
   "source": [
    "get_report(df_komunalweb)"
   ]
  },
  {
   "cell_type": "code",
   "execution_count": null,
   "metadata": {},
   "outputs": [],
   "source": [
    "get_report_charts(df_komunalweb)"
   ]
  },
  {
   "cell_type": "markdown",
   "metadata": {},
   "source": [
    "**Website moderniobec.cz**"
   ]
  },
  {
   "cell_type": "code",
   "execution_count": 127,
   "metadata": {},
   "outputs": [],
   "source": [
    "df_moderniobec = df_websites[df_websites[\"website\"] == \"moderniobec.cz\"]"
   ]
  },
  {
   "cell_type": "code",
   "execution_count": null,
   "metadata": {},
   "outputs": [],
   "source": [
    "get_report(df_moderniobec)"
   ]
  },
  {
   "cell_type": "code",
   "execution_count": null,
   "metadata": {},
   "outputs": [],
   "source": [
    "get_report_charts(df_moderniobec)"
   ]
  },
  {
   "cell_type": "markdown",
   "metadata": {},
   "source": [
    "**Website naschov.cz**"
   ]
  },
  {
   "cell_type": "code",
   "execution_count": 130,
   "metadata": {},
   "outputs": [],
   "source": [
    "df_naschov = df_websites[df_websites[\"website\"] == \"naschov.cz\"]"
   ]
  },
  {
   "cell_type": "code",
   "execution_count": null,
   "metadata": {},
   "outputs": [],
   "source": [
    "get_report(df_naschov)"
   ]
  },
  {
   "cell_type": "code",
   "execution_count": null,
   "metadata": {},
   "outputs": [],
   "source": [
    "get_report_charts(df_naschov)"
   ]
  },
  {
   "cell_type": "markdown",
   "metadata": {},
   "source": [
    "**Website odpady-online.cz**"
   ]
  },
  {
   "cell_type": "code",
   "execution_count": 133,
   "metadata": {},
   "outputs": [],
   "source": [
    "df_odpady_online = df_websites[df_websites[\"website\"] == \"odpady-online.cz\"]"
   ]
  },
  {
   "cell_type": "code",
   "execution_count": null,
   "metadata": {},
   "outputs": [],
   "source": [
    "get_report(df_odpady_online)"
   ]
  },
  {
   "cell_type": "code",
   "execution_count": null,
   "metadata": {},
   "outputs": [],
   "source": [
    "get_report_charts(df_odpady_online)"
   ]
  },
  {
   "cell_type": "markdown",
   "metadata": {},
   "source": [
    "**Website vetweb.cz**"
   ]
  },
  {
   "cell_type": "code",
   "execution_count": 136,
   "metadata": {},
   "outputs": [],
   "source": [
    "df_vetweb = df_websites[df_websites[\"website\"] == \"vetweb.cz\"]"
   ]
  },
  {
   "cell_type": "code",
   "execution_count": null,
   "metadata": {},
   "outputs": [],
   "source": [
    "get_report(df_vetweb)"
   ]
  },
  {
   "cell_type": "code",
   "execution_count": null,
   "metadata": {},
   "outputs": [],
   "source": [
    "get_report_charts(df_vetweb)"
   ]
  },
  {
   "cell_type": "markdown",
   "metadata": {},
   "source": [
    "**Website tvzemedelec.cz**"
   ]
  },
  {
   "cell_type": "code",
   "execution_count": 139,
   "metadata": {},
   "outputs": [],
   "source": [
    "df_tvzemedelec = df_websites[df_websites[\"website\"] == \"tvzemedelec.cz\"]"
   ]
  },
  {
   "cell_type": "code",
   "execution_count": null,
   "metadata": {},
   "outputs": [],
   "source": [
    "get_report(df_tvzemedelec)"
   ]
  },
  {
   "cell_type": "code",
   "execution_count": null,
   "metadata": {},
   "outputs": [],
   "source": [
    "get_report_charts(df_tvzemedelec)"
   ]
  },
  {
   "cell_type": "markdown",
   "metadata": {},
   "source": [
    "**Website zahradaweb.cz**"
   ]
  },
  {
   "cell_type": "code",
   "execution_count": 142,
   "metadata": {},
   "outputs": [],
   "source": [
    "df_zahradaweb = df_websites[df_websites[\"website\"] == \"zahradaweb.cz\"]"
   ]
  },
  {
   "cell_type": "code",
   "execution_count": null,
   "metadata": {},
   "outputs": [],
   "source": [
    "get_report(df_zahradaweb)"
   ]
  },
  {
   "cell_type": "code",
   "execution_count": null,
   "metadata": {},
   "outputs": [],
   "source": [
    "get_report_charts(df_zahradaweb)"
   ]
  },
  {
   "cell_type": "markdown",
   "metadata": {},
   "source": [
    "**Comparison of websites traffic**"
   ]
  },
  {
   "cell_type": "code",
   "execution_count": 145,
   "metadata": {},
   "outputs": [],
   "source": [
    "sns.set_theme(\n",
    "    style=\"whitegrid\",\n",
    "    palette=\"bright\",\n",
    "    font_scale=1.1,\n",
    "    rc={\"grid.color\": \"#e6e6e6\"},\n",
    ")"
   ]
  },
  {
   "cell_type": "code",
   "execution_count": 146,
   "metadata": {},
   "outputs": [],
   "source": [
    "def comparison_sum_mean(df, metric):\n",
    "    \"\"\"Functions for creating charts comparing websites. Separate comparison for each metric.\n",
    "    This function is used for metrics where the average value and sum of values is calculated.\"\"\"\n",
    "\n",
    "    metric_label = re.sub(r\"_\", \" \", metric).title()\n",
    "\n",
    "    # Line charts for websites\n",
    "    plt.figure(figsize=(12,6))\n",
    "    sns.lineplot(data=df, x=\"year_month\", y=metric, hue=\"website\", linewidth=3)\n",
    "    plt.title(f\"{metric_label} over time\")\n",
    "    plt.xticks(rotation=45, ha=\"right\")\n",
    "    plt.xlabel(\"\")\n",
    "    plt.ylabel(metric_label)\n",
    "    plt.legend(bbox_to_anchor=(1.05, 1), loc=\"upper left\", borderaxespad=0.)\n",
    "    plt.tight_layout()\n",
    "    plt.show()\n",
    "\n",
    "    # Heatmap for websites\n",
    "    df_pivot = df.pivot(index=\"website\", columns=\"year_month\", values=metric)\n",
    "    plt.figure(figsize=(12, 6))\n",
    "    sns.heatmap(df_pivot, cmap=\"viridis\", annot=False, cbar_kws={\"label\": metric_label})\n",
    "    plt.title(f\"{metric_label} over time\")\n",
    "    plt.xlabel(\"\")\n",
    "    plt.ylabel(\"\")\n",
    "    plt.xticks(rotation=45, ha=\"right\")\n",
    "    plt.tight_layout()\n",
    "    plt.show()\n",
    "\n",
    "    # Calculation of average and sum\n",
    "    df_grouped_mean = df.groupby(\"website\")[metric].mean().sort_values(ascending=False).reset_index()\n",
    "    df_grouped_sum = df.groupby(\"website\")[metric].sum().sort_values(ascending=False).reset_index()\n",
    "\n",
    "    # Create a bar chart for average and sum\n",
    "    fig, axes = plt.subplots(1, 2, figsize=(16, 6))\n",
    "\n",
    "    sns.barplot(data=df_grouped_mean, x=metric, y=\"website\", color=\"lightgreen\", ax=axes[0])\n",
    "    axes[0].set_title(f\"Average per month: {metric_label}\")\n",
    "    axes[0].set_xlabel(metric_label)\n",
    "    axes[0].set_ylabel(\"\")\n",
    "    axes[0].tick_params(axis=\"x\", rotation=45)\n",
    "\n",
    "    sns.barplot(data=df_grouped_sum, x=metric, y=\"website\", color=\"skyblue\", ax=axes[1])\n",
    "    axes[1].set_title(f\"Total amount: {metric_label}\")\n",
    "    axes[1].set_xlabel(metric_label)\n",
    "    axes[1].set_ylabel(\"\")\n",
    "    axes[1].tick_params(axis=\"x\", rotation=45)\n",
    "\n",
    "    plt.tight_layout()\n",
    "    plt.show()"
   ]
  },
  {
   "cell_type": "code",
   "execution_count": 147,
   "metadata": {},
   "outputs": [],
   "source": [
    "def comparison_mean(df, metric):\n",
    "    \"\"\"Functions for creating charts comparing websites. Separate comparison for each metric.\n",
    "    This function is used for metrics where only the average value is calculated.\"\"\"\n",
    "\n",
    "    metric_label = re.sub(r\"_\", \" \", metric).title()\n",
    "\n",
    "    # Line charts for websites\n",
    "    plt.figure(figsize=(12,6))\n",
    "    sns.lineplot(data=df, x=\"year_month\", y=metric, hue=\"website\", linewidth=3)\n",
    "    plt.title(f\"{metric_label} over time\")\n",
    "    plt.xticks(rotation=45, ha=\"right\")\n",
    "    plt.xlabel(\"\")\n",
    "    plt.ylabel(metric_label)\n",
    "    plt.legend(bbox_to_anchor=(1.05, 1), loc=\"upper left\", borderaxespad=0.)\n",
    "    plt.tight_layout()\n",
    "    plt.show()\n",
    "\n",
    "    # Heatmap for websites\n",
    "    df_pivot = df.pivot(index=\"website\", columns=\"year_month\", values=metric)\n",
    "    plt.figure(figsize=(12, 6))\n",
    "    sns.heatmap(df_pivot, cmap=\"viridis\", annot=False, cbar_kws={\"label\": metric_label})\n",
    "    plt.title(f\"{metric_label} over time\")\n",
    "    plt.xlabel(\"\")\n",
    "    plt.ylabel(\"\")\n",
    "    plt.xticks(rotation=45, ha=\"right\")\n",
    "    plt.tight_layout()\n",
    "    plt.show()\n",
    "\n",
    "    # Calculation of average\n",
    "    df_grouped_mean = df.groupby(\"website\")[metric].mean().sort_values(ascending=False).reset_index()\n",
    "\n",
    "    # Bar chart for average value\n",
    "    plt.figure(figsize=(12, 6))\n",
    "    sns.barplot(data=df_grouped_mean, x=metric, y=\"website\", color=\"lightgreen\")\n",
    "    plt.title(f\"Average per month: {metric_label}\")\n",
    "    plt.xlabel(metric_label)\n",
    "    plt.ylabel(\"\")\n",
    "    plt.tight_layout()\n",
    "    plt.show()"
   ]
  },
  {
   "cell_type": "markdown",
   "metadata": {},
   "source": [
    "**Active users**"
   ]
  },
  {
   "cell_type": "code",
   "execution_count": null,
   "metadata": {},
   "outputs": [],
   "source": [
    "comparison_sum_mean(df_websites, metric=\"active_users\")"
   ]
  },
  {
   "cell_type": "markdown",
   "metadata": {},
   "source": [
    "**New users**"
   ]
  },
  {
   "cell_type": "code",
   "execution_count": null,
   "metadata": {},
   "outputs": [],
   "source": [
    "comparison_sum_mean(df_websites, \"new_users\")"
   ]
  },
  {
   "cell_type": "markdown",
   "metadata": {},
   "source": [
    "**Sessions per user**"
   ]
  },
  {
   "cell_type": "code",
   "execution_count": null,
   "metadata": {},
   "outputs": [],
   "source": [
    "comparison_mean(df_websites, \"sessions_per_user\")"
   ]
  },
  {
   "cell_type": "markdown",
   "metadata": {},
   "source": [
    "**Average session duration**"
   ]
  },
  {
   "cell_type": "code",
   "execution_count": null,
   "metadata": {},
   "outputs": [],
   "source": [
    "comparison_mean(df_websites, \"average_session_duration\")"
   ]
  },
  {
   "cell_type": "markdown",
   "metadata": {},
   "source": [
    "**Engagement rate**"
   ]
  },
  {
   "cell_type": "code",
   "execution_count": null,
   "metadata": {},
   "outputs": [],
   "source": [
    "comparison_mean(df_websites, \"engagement_rate\")"
   ]
  },
  {
   "cell_type": "markdown",
   "metadata": {},
   "source": [
    "**New users ratio**"
   ]
  },
  {
   "cell_type": "code",
   "execution_count": null,
   "metadata": {},
   "outputs": [],
   "source": [
    "comparison_mean(df_websites, \"new_users_ratio\")"
   ]
  }
 ],
 "metadata": {
  "kernelspec": {
   "display_name": "base",
   "language": "python",
   "name": "python3"
  },
  "language_info": {
   "codemirror_mode": {
    "name": "ipython",
    "version": 3
   },
   "file_extension": ".py",
   "mimetype": "text/x-python",
   "name": "python",
   "nbconvert_exporter": "python",
   "pygments_lexer": "ipython3",
   "version": "3.12.7"
  }
 },
 "nbformat": 4,
 "nbformat_minor": 2
}
